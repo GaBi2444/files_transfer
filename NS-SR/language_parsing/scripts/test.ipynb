{
 "cells": [
  {
   "cell_type": "code",
   "execution_count": null,
   "metadata": {},
   "outputs": [],
   "source": [
    "import json\n",
    "! $MMF_DATA_DIR\n",
    "MMF_DATA_DIR = '/dccstor/bowu_datasets/data/'\n",
    "question_path = MMF_DATA_DIR+'ActionQA/SR_Dataset/question_answer/descriptive_T1_video_key.json'\n",
    "print('loading questions')\n",
    "with open(question_path) as f:\n",
    "    ann = json.load(f)"
   ]
  },
  {
   "cell_type": "code",
   "execution_count": null,
   "metadata": {},
   "outputs": [],
   "source": [
    "ann[0]"
   ]
  },
  {
   "cell_type": "code",
   "execution_count": null,
   "metadata": {},
   "outputs": [],
   "source": [
    "for sample in ann:\n",
    "    for qa in sample:\n",
    "#         qa['question'] = ' '.join( word_stemmer(q.split()) ) \n",
    "#         qa['program'] = ' '.join( word_stemmer(q.split()) ) \n",
    "#         qa['answer'] = ' '.join( word_stemmer(q.split()) ) \n",
    "        print(qa['program'])\n",
    "        break"
   ]
  },
  {
   "cell_type": "code",
   "execution_count": null,
   "metadata": {},
   "outputs": [],
   "source": [
    "import sys\n",
    "sys.path.append('../tools')\n",
    "from utils_nlp import * \n",
    "from utils_load import *"
   ]
  },
  {
   "cell_type": "code",
   "execution_count": null,
   "metadata": {},
   "outputs": [],
   "source": [
    "' '.join( word_stemmer('Which object was put down by the person?'.split()) )"
   ]
  },
  {
   "cell_type": "code",
   "execution_count": null,
   "metadata": {},
   "outputs": [],
   "source": [
    "CSV_DIR = \"../../../data/annotations/\"\n",
    "verb_map_ori = load_verb_mapping(CSV_DIR)\n",
    "verb_expansion_map = load_verb_expansion_mapping(CSV_DIR)\n",
    "VERB_MAP = verb_expansion(verb_map_ori,verb_expansion_map)"
   ]
  },
  {
   "cell_type": "code",
   "execution_count": null,
   "metadata": {},
   "outputs": [],
   "source": [
    "len(VERB_MAP.values())"
   ]
  },
  {
   "cell_type": "code",
   "execution_count": null,
   "metadata": {},
   "outputs": [],
   "source": [
    "len(set(VERB_MAP.values()))"
   ]
  },
  {
   "cell_type": "code",
   "execution_count": null,
   "metadata": {},
   "outputs": [],
   "source": [
    "all_qs =[]\n",
    "ann=ann[:30]\n",
    "for i in range(0, 30):\n",
    "    for j, q in enumerate(ann[i]):\n",
    "#         print(q['question'])\n",
    "        all_qs.append(q['question'])"
   ]
  },
  {
   "cell_type": "code",
   "execution_count": null,
   "metadata": {},
   "outputs": [],
   "source": [
    "import pandas as pd\n",
    " \n",
    "all_pgs = []\n",
    "for j, q in enumerate(ann[0]):\n",
    "    all_pgs.append(','.join(q['program']))\n",
    "all_pgs"
   ]
  },
  {
   "cell_type": "code",
   "execution_count": null,
   "metadata": {},
   "outputs": [],
   "source": [
    "all_pgs = pd.DataFrame(all_pgs)\n",
    "all_pgs = all_pgs[0].str.replace(' .*?,',',',regex=True).str.split(',').values"
   ]
  },
  {
   "cell_type": "code",
   "execution_count": null,
   "metadata": {},
   "outputs": [],
   "source": [
    "all_pgs "
   ]
  },
  {
   "cell_type": "code",
   "execution_count": null,
   "metadata": {},
   "outputs": [],
   "source": [
    "from pattern.en import lemma\n",
    "\n",
    "print lemma('working')"
   ]
  },
  {
   "cell_type": "code",
   "execution_count": null,
   "metadata": {},
   "outputs": [],
   "source": []
  },
  {
   "cell_type": "code",
   "execution_count": null,
   "metadata": {},
   "outputs": [],
   "source": []
  }
 ],
 "metadata": {
  "kernelspec": {
   "display_name": "Python 3",
   "language": "python",
   "name": "python3"
  },
  "language_info": {
   "codemirror_mode": {
    "name": "ipython",
    "version": 3
   },
   "file_extension": ".py",
   "mimetype": "text/x-python",
   "name": "python",
   "nbconvert_exporter": "python",
   "pygments_lexer": "ipython3",
   "version": "3.6.13"
  }
 },
 "nbformat": 4,
 "nbformat_minor": 4
}
