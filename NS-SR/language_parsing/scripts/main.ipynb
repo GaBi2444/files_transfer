{
 "cells": [
  {
   "cell_type": "code",
   "execution_count": null,
   "metadata": {},
   "outputs": [],
   "source": [
    "!export TEMPLATE_NAME=descriptive_T1"
   ]
  },
  {
   "cell_type": "code",
   "execution_count": null,
   "metadata": {},
   "outputs": [],
   "source": [
    "!sh script_preprocessing_questions.sh"
   ]
  },
  {
   "cell_type": "code",
   "execution_count": null,
   "metadata": {},
   "outputs": [],
   "source": [
    "!sh train_sr.sh"
   ]
  },
  {
   "cell_type": "code",
   "execution_count": 1,
   "metadata": {},
   "outputs": [
    {
     "name": "stdout",
     "output_type": "stream",
     "text": [
      "| using cpu\n",
      "| options\n",
      "parameter setting\n",
      "run_dir: rs_exps\n",
      "dataset: sr_dataset\n",
      "shuffle: 1\n",
      "num_workers: 1\n",
      "manual_seed: None\n",
      "gpu_ids: []\n",
      "visualize: 0\n",
      "oe_train_question_path: data/h5/oe_train_questions.h5\n",
      "oe_val_question_path: data/h5/oe_val_questions.h5\n",
      "oe_test_question_path: data/h5/oe_test_questions.h5\n",
      "oe_vocab_path: data/h5/oe_vocab.json\n",
      "mc_q_train_question_path: data/h5/mc_train_questions.h5\n",
      "mc_q_val_question_path: ../output_data/descriptive_T1_val.h5\n",
      "mc_q_test_question_path: ../output_data/descriptive_T1_test.h5\n",
      "mc_q_vocab_path: ../output_data/descriptive_T1_train_vocab.json\n",
      "mc_c_train_question_path: data/h5/mc_train_choices.h5\n",
      "mc_c_val_question_path: data/h5/mc_val_choices.h5\n",
      "mc_c_test_question_path: data/h5/mc_test_choices.h5\n",
      "mc_c_vocab_path: data/h5/mc_choice_vocab.json\n",
      "load_checkpoint_path: rs_exps/checkpoint_best.pt\n",
      "save_result_path: ../result_data/parse_pg.json\n",
      "split: val\n",
      "max_train_samples: None\n",
      "max_val_samples: None\n",
      "batch_size: 64\n",
      "| sr_dataset val loader has 2552 samples\n",
      "| loading checkpoint from rs_exps/checkpoint_best.pt\n",
      "/dccstor/bowu_datasets/conda_bowu/parser/lib/python3.6/site-packages/torch/nn/functional.py:995: UserWarning: nn.functional.tanh is deprecated. Use torch.tanh instead.\n",
      "  warnings.warn(\"nn.functional.tanh is deprecated. Use torch.tanh instead.\")\n",
      "saving results to ../result_data/parse_pg.json\n"
     ]
    }
   ],
   "source": [
    "!sh test_sr.sh"
   ]
  },
  {
   "cell_type": "code",
   "execution_count": null,
   "metadata": {},
   "outputs": [],
   "source": []
  },
  {
   "cell_type": "code",
   "execution_count": null,
   "metadata": {},
   "outputs": [],
   "source": []
  }
 ],
 "metadata": {
  "kernelspec": {
   "display_name": "Python 3",
   "language": "python",
   "name": "python3"
  },
  "language_info": {
   "codemirror_mode": {
    "name": "ipython",
    "version": 3
   },
   "file_extension": ".py",
   "mimetype": "text/x-python",
   "name": "python",
   "nbconvert_exporter": "python",
   "pygments_lexer": "ipython3",
   "version": "3.6.13"
  }
 },
 "nbformat": 4,
 "nbformat_minor": 4
}
